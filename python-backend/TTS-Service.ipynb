{
 "cells": [
  {
   "cell_type": "markdown",
   "metadata": {},
   "source": [
    "## Python TTS Service\n",
    "conda env list\n",
    "conda activate penv312\n",
    "conda install fastapi uvicorn gtts python-multipart\n",
    "conda install nest_asyncio"
   ]
  },
  {
   "cell_type": "markdown",
   "metadata": {},
   "source": [
    " Jupyter Notebook에서 실행하시려면 nest_asyncio를 사용하고, \n",
    " 일반적인 Python 파일(.py)로 저장해서 실행하실 경우에는 nest_asyncio 관련 부분은 제거하셔도 됩니다.\n",
    "실행 후에는 http://localhost:8000/docs에서 FastAPI의 자동 생성된 문서를 확인하실 수 있습니다."
   ]
  },
  {
   "cell_type": "code",
   "execution_count": null,
   "metadata": {},
   "outputs": [],
   "source": []
  },
  {
   "cell_type": "code",
   "execution_count": null,
   "metadata": {},
   "outputs": [
    {
     "name": "stderr",
     "output_type": "stream",
     "text": [
      "INFO:     Started server process [36508]\n",
      "INFO:     Waiting for application startup.\n",
      "INFO:     Application startup complete.\n",
      "INFO:     Uvicorn running on http://0.0.0.0:8000 (Press CTRL+C to quit)\n"
     ]
    },
    {
     "name": "stdout",
     "output_type": "stream",
     "text": [
      "INFO:     127.0.0.1:57613 - \"GET /tts HTTP/1.1\" 405 Method Not Allowed\n",
      "INFO:     127.0.0.1:57613 - \"GET /favicon.ico HTTP/1.1\" 404 Not Found\n",
      "INFO:     127.0.0.1:54083 - \"POST /tts HTTP/1.1\" 200 OK\n",
      "INFO:     127.0.0.1:57286 - \"POST /tts HTTP/1.1\" 200 OK\n",
      "INFO:     127.0.0.1:55008 - \"POST /tts HTTP/1.1\" 200 OK\n",
      "INFO:     127.0.0.1:59124 - \"POST /tts HTTP/1.1\" 200 OK\n"
     ]
    }
   ],
   "source": [
    "from fastapi import FastAPI, HTTPException\n",
    "from starlette.background import BackgroundTask  # BackgroundTask import 위치 변경\n",
    "from pydantic import BaseModel\n",
    "from gtts import gTTS\n",
    "import tempfile\n",
    "import os\n",
    "from fastapi.responses import FileResponse\n",
    "from fastapi.middleware.cors import CORSMiddleware\n",
    "import nest_asyncio\n",
    "import uvicorn\n",
    "\n",
    "# nest_asyncio 적용\n",
    "nest_asyncio.apply()\n",
    "\n",
    "app = FastAPI()\n",
    "\n",
    "# CORS 설정\n",
    "app.add_middleware(\n",
    "    CORSMiddleware,\n",
    "    allow_origins=[\"*\"],\n",
    "    allow_credentials=True,\n",
    "    allow_methods=[\"*\"],\n",
    "    allow_headers=[\"*\"],\n",
    ")\n",
    "\n",
    "class TTSRequest(BaseModel):\n",
    "    text: str\n",
    "\n",
    "@app.post(\"/tts\")\n",
    "async def text_to_speech(request: TTSRequest):\n",
    "    try:\n",
    "        # Create a temporary file to store the audio\n",
    "        with tempfile.NamedTemporaryFile(delete=False, suffix='.mp3') as tmp_file:\n",
    "            # Convert text to speech\n",
    "            tts = gTTS(text=request.text, lang='ko')\n",
    "            tts.save(tmp_file.name)\n",
    "            \n",
    "            # Return the audio file\n",
    "            return FileResponse(\n",
    "                tmp_file.name,\n",
    "                media_type='audio/mpeg',\n",
    "                filename='speech.mp3',\n",
    "                background=BackgroundTask(lambda: os.unlink(tmp_file.name))\n",
    "            )\n",
    "    except Exception as e:\n",
    "        raise HTTPException(status_code=500, detail=str(e))\n",
    "\n",
    "if __name__ == \"__main__\":\n",
    "    uvicorn.run(app, host=\"0.0.0.0\", port=8000)"
   ]
  },
  {
   "cell_type": "code",
   "execution_count": null,
   "metadata": {},
   "outputs": [],
   "source": []
  }
 ],
 "metadata": {
  "kernelspec": {
   "display_name": "penv312",
   "language": "python",
   "name": "python3"
  },
  "language_info": {
   "codemirror_mode": {
    "name": "ipython",
    "version": 3
   },
   "file_extension": ".py",
   "mimetype": "text/x-python",
   "name": "python",
   "nbconvert_exporter": "python",
   "pygments_lexer": "ipython3",
   "version": "3.12.7"
  }
 },
 "nbformat": 4,
 "nbformat_minor": 2
}
